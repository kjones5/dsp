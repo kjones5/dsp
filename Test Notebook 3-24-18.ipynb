{
 "cells": [
  {
   "cell_type": "markdown",
   "metadata": {},
   "source": [
    "# Test Notebook - March 24, 2018"
   ]
  },
  {
   "cell_type": "code",
   "execution_count": 1,
   "metadata": {},
   "outputs": [
    {
     "name": "stdout",
     "output_type": "stream",
     "text": [
      "/Users/kellyjones/ds/metis/metisgh/prework/dsp\r\n"
     ]
    }
   ],
   "source": [
    "! pwd"
   ]
  },
  {
   "cell_type": "code",
   "execution_count": 2,
   "metadata": {},
   "outputs": [
    {
     "name": "stdout",
     "output_type": "stream",
     "text": [
      "Python 3.6.4 :: Anaconda custom (64-bit)\r\n"
     ]
    }
   ],
   "source": [
    "! python --version"
   ]
  },
  {
   "cell_type": "code",
   "execution_count": 3,
   "metadata": {},
   "outputs": [
    {
     "name": "stdout",
     "output_type": "stream",
     "text": [
      "Hello, world!\n"
     ]
    }
   ],
   "source": [
    "print(\"Hello, world!\")"
   ]
  },
  {
   "cell_type": "code",
   "execution_count": 7,
   "metadata": {},
   "outputs": [],
   "source": [
    "%matplotlib inline\n",
    "import matplotlib.pyplot as plt"
   ]
  },
  {
   "cell_type": "code",
   "execution_count": 10,
   "metadata": {},
   "outputs": [
    {
     "name": "stdout",
     "output_type": "stream",
     "text": [
      "test code\n",
      "0\n",
      "1\n",
      "2\n",
      "3\n",
      "4\n"
     ]
    }
   ],
   "source": [
    "# This is a code cell\n",
    "print(\"test code\")\n",
    "x = 0\n",
    "print(x)\n",
    "for i in range(4):\n",
    "    x+=1\n",
    "    print(x)"
   ]
  },
  {
   "cell_type": "markdown",
   "metadata": {},
   "source": [
    "# Top level heading**\n",
    "Created line break after heading\n",
    "\n",
    "List of three things to cover:\n",
    "1. This\n",
    "2. That\n",
    "3. And the other\n",
    "\n",
    "As well as, in no particular order:\n",
    "* Something\n",
    "* Anything"
   ]
  },
  {
   "cell_type": "markdown",
   "metadata": {},
   "source": [
    "# Top level heading\n",
    "This is without the line break after heading. It doesn't seem to make much difference. Emoji apparently also do not work in a Jupyter notebook. :smiley: \n",
    "\n",
    "Some of my thoughts are **bold** or *italic* or **_both_**"
   ]
  },
  {
   "cell_type": "markdown",
   "metadata": {},
   "source": [
    "Here is a table with my thoughts. The length of the hyphen string does not appear to impact column width. It seems to wrap to the widest entry.\n",
    "\n",
    "Today | Tomorrow\n",
    "----- | ----------------\n",
    "Saturday | Sunday\n",
    "March 24 | March 25\n",
    "\n",
    "Today | Tomorrow\n",
    "----- | ----------------\n",
    "Saturday | Sunday\n",
    "March 24 | March 25\n",
    "Short entry | Looooooooooooooooooooooong entry"
   ]
  },
  {
   "cell_type": "markdown",
   "metadata": {},
   "source": [
    "This is an example of printing a block of code.\n",
    "\n",
    "```python\n",
    "print('Hello world!')\n",
    "\n",
    "def test_func():\n",
    "    x = 15\n",
    "    return x\n",
    "```"
   ]
  },
  {
   "cell_type": "code",
   "execution_count": 11,
   "metadata": {},
   "outputs": [],
   "source": [
    "def test_func():\n",
    "    x = 15\n",
    "    return x"
   ]
  },
  {
   "cell_type": "code",
   "execution_count": 12,
   "metadata": {},
   "outputs": [
    {
     "data": {
      "text/plain": [
       "15"
      ]
     },
     "execution_count": 12,
     "metadata": {},
     "output_type": "execute_result"
    }
   ],
   "source": [
    "test_func()"
   ]
  },
  {
   "cell_type": "markdown",
   "metadata": {},
   "source": [
    "Here is an indented quote.\n",
    "\n",
    "> *How do you write like you're  \n",
    "> running out of time?*\n",
    "\n",
    "That was with two spaces after \"you're\" for a line break. Otherwise, it would have been printed all on one line, even if I had tried to write it on two lines by just hitting enter like in a regular word processing program:\n",
    "\n",
    "> *How do you write like you're\n",
    "> running out of time?*"
   ]
  },
  {
   "cell_type": "markdown",
   "metadata": {},
   "source": [
    "That was a lyric from the song [Non-Stop](https://genius.com/Lin-manuel-miranda-non-stop-lyrics)."
   ]
  }
 ],
 "metadata": {
  "kernelspec": {
   "display_name": "Python 3",
   "language": "python",
   "name": "python3"
  },
  "language_info": {
   "codemirror_mode": {
    "name": "ipython",
    "version": 3
   },
   "file_extension": ".py",
   "mimetype": "text/x-python",
   "name": "python",
   "nbconvert_exporter": "python",
   "pygments_lexer": "ipython3",
   "version": "3.6.4"
  }
 },
 "nbformat": 4,
 "nbformat_minor": 2
}
