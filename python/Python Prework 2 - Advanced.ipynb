{
 "cells": [
  {
   "cell_type": "markdown",
   "metadata": {},
   "source": [
    "# Python Advanced Prework - Final Answers\n",
    "Parsing .csv file of Penn faculty"
   ]
  },
  {
   "cell_type": "markdown",
   "metadata": {},
   "source": [
    "### Q1"
   ]
  },
  {
   "cell_type": "code",
   "execution_count": null,
   "metadata": {},
   "outputs": [],
   "source": [
    "# Lingering problem: Multiple degrees stored as list within list\n",
    "# count_degrees function returns too many degrees\n",
    "# because it doesn't parse out the separate items\n",
    "# STUCK\n",
    "\n",
    "import csv\n",
    "import re\n",
    "from collections import defaultdict\n",
    "\n",
    "\n",
    "with open('faculty.csv') as f:\n",
    "    facdata = csv.reader(f, delimiter=',')\n",
    "    degrees = []\n",
    "    for row in facdata:\n",
    "        degree_str = row[1]\n",
    "        degrees.append(degree_str)\n",
    "        \n",
    "        \n",
    "degrees.pop(0)\n",
    "degrees = [degree.upper() for degree in degrees]\n",
    "\n",
    "def flatten(degrees):\n",
    "    for x in degrees:\n",
    "        if hasattr(x, '__iter__') and not isinstance(x, str):\n",
    "            for y in flatten(x):\n",
    "                yield y\n",
    "            else:\n",
    "                yield x\n",
    "\n",
    "degrees = list(flatten(degrees))\n",
    "\n",
    "degrees_clean = [re.compile('\\.').sub('', degree) for degree in degrees]\n",
    "\n",
    "degrees_all = []\n",
    "\n",
    "for degree in degrees_clean:\n",
    "    deg_sep = degree.split()\n",
    "    degrees_all.append(deg_sep)\n",
    "    \n",
    "degrees_tuple = tuple(degrees_clean)\n",
    "\n",
    "def count_degrees(csv_file_name):\n",
    "    degree_count = defaultdict(int)\n",
    "    for degree in degrees_tuple:\n",
    "        degree_count[degree] += 1\n",
    "    return degree_count"
   ]
  },
  {
   "cell_type": "markdown",
   "metadata": {},
   "source": [
    "### Q2"
   ]
  },
  {
   "cell_type": "code",
   "execution_count": 1,
   "metadata": {},
   "outputs": [],
   "source": [
    "import re\n",
    "import csv\n",
    "from collections import defaultdict\n",
    "\n",
    "with open('faculty.csv') as f:\n",
    "    facdata = csv.reader(f, delimiter=',')\n",
    "    titles = []\n",
    "    for row in facdata:\n",
    "        title_str = row[2]\n",
    "        titles.append(title_str)\n",
    "        \n",
    "titles.pop(0)\n",
    "\n",
    "typo_index = titles.index('Assistant Professor is Biostatistics')\n",
    "titles.insert(typo_index, 'Assistant Professor of Biostatistics')\n",
    "titles.remove('Assistant Professor is Biostatistics')\n",
    "\n",
    "def count_titles(csv_file_name):\n",
    "    title_count = defaultdict(int)\n",
    "    for title in titles:\n",
    "        title_count[title] += 1\n",
    "    return title_count\n",
    "\n",
    "# In hindsight, would rearrange this text like Q3 below so that most work is within count_titles function\n",
    "# and passing the file name actually does something"
   ]
  },
  {
   "cell_type": "markdown",
   "metadata": {},
   "source": [
    "### Q3"
   ]
  },
  {
   "cell_type": "code",
   "execution_count": null,
   "metadata": {},
   "outputs": [],
   "source": [
    "import csv\n",
    "\n",
    "def emails(csv_file_name):\n",
    "    with open(csv_file_name) as f:\n",
    "        facdata = csv.reader(f, delimiter=',')\n",
    "        emails = []\n",
    "        for row in facdata:\n",
    "            email = row[3]\n",
    "            emails.append(email)\n",
    "        emails.pop(0)\n",
    "        return emails"
   ]
  },
  {
   "cell_type": "markdown",
   "metadata": {},
   "source": [
    "### Q4"
   ]
  },
  {
   "cell_type": "code",
   "execution_count": null,
   "metadata": {},
   "outputs": [],
   "source": [
    "import re\n",
    "\n",
    "def unique_domains(emails):\n",
    "    split_term = '@'\n",
    "    domains = []\n",
    "    for email in emails:\n",
    "        domain = re.split(split_term,email)\n",
    "        domains.append(domain[1])\n",
    "    return set(domains)"
   ]
  },
  {
   "cell_type": "markdown",
   "metadata": {},
   "source": [
    "### Q5"
   ]
  },
  {
   "cell_type": "code",
   "execution_count": null,
   "metadata": {},
   "outputs": [],
   "source": [
    "import csv\n",
    "\n",
    "file = 'emails.csv'\n",
    "\n",
    "def write_to_csv(list_of_emails):\n",
    "    with open(file, 'w') as output:\n",
    "        writer = csv.writer(output, lineterminator='\\n')\n",
    "        writer.writerow('list_of_emails')\n",
    "        for email in list_of_emails:\n",
    "            writer.writerow([email])"
   ]
  },
  {
   "cell_type": "markdown",
   "metadata": {},
   "source": [
    "### Q6"
   ]
  },
  {
   "cell_type": "code",
   "execution_count": null,
   "metadata": {},
   "outputs": [],
   "source": [
    "import csv\n",
    "from collections import defaultdict\n",
    "\n",
    "with open('faculty.csv') as f:\n",
    "    facdata = csv.reader(f, delimiter=',')\n",
    "    names = []\n",
    "    details = []\n",
    "    for row in facdata:\n",
    "        full_name = row[0]\n",
    "        names.append(full_name)\n",
    "        other_columns = row[1:]\n",
    "        details.append(other_columns)\n",
    "\n",
    "names.pop(0)\n",
    "details.pop(0)\n",
    "\n",
    "surnames = [name.split()[-1] for name in names]\n",
    "\n",
    "def get_dict():\n",
    "    data = zip(surnames, details)\n",
    "    d = defaultdict(list)\n",
    "    for k, v in data:\n",
    "        d[k].append(v)\n",
    "    return d"
   ]
  },
  {
   "cell_type": "markdown",
   "metadata": {},
   "source": [
    "### Q7"
   ]
  },
  {
   "cell_type": "code",
   "execution_count": null,
   "metadata": {},
   "outputs": [],
   "source": [
    "import csv\n",
    "\n",
    "with open('faculty.csv') as f:\n",
    "    facdata = csv.reader(f, delimiter=',')\n",
    "    names = []\n",
    "    details = []\n",
    "    for row in facdata:\n",
    "        full_name = row[0]\n",
    "        names.append(full_name)\n",
    "        other_columns = row[1:]\n",
    "        details.append(other_columns)\n",
    "\n",
    "names.pop(0)\n",
    "details.pop(0)\n",
    "\n",
    "nametups = [tuple(name.split()) for name in names]\n",
    "\n",
    "def get_dict():\n",
    "    new_dict = {k: v for k, v in zip(nametups, details)}\n",
    "    return new_dict"
   ]
  },
  {
   "cell_type": "markdown",
   "metadata": {},
   "source": [
    "# Scratch Work"
   ]
  },
  {
   "cell_type": "code",
   "execution_count": null,
   "metadata": {},
   "outputs": [],
   "source": [
    "# DO NOT RUN CELL! DO NOT RUN CELL! DO NOT RUN CELL!\n",
    "facultycsv = \"\"\"name, degree, title, email\n",
    "Scarlett L. Bellamy, Sc.D.,Associate Professor of Biostatistics,bellamys@mail.med.upenn.edu\n",
    "Warren B. Bilker,Ph.D.,Professor of Biostatistics,warren@upenn.edu\n",
    "Matthew W Bryan, PhD,Assistant Professor of Biostatistics,bryanma@upenn.edu\n",
    "Jinbo Chen, Ph.D.,Associate Professor of Biostatistics,jinboche@upenn.edu\n",
    "Susan S Ellenberg, Ph.D.,Professor of Biostatistics,sellenbe@upenn.edu\n",
    "Jonas H. Ellenberg, Ph.D.,Professor of Biostatistics,jellenbe@mail.med.upenn.edu\n",
    "Rui Feng, Ph.D,Assistant Professor of Biostatistics,ruifeng@upenn.edu\n",
    "Benjamin C. French, PhD,Associate Professor of Biostatistics,bcfrench@mail.med.upenn.edu\n",
    "Phyllis A. Gimotty, Ph.D,Professor of Biostatistics,pgimotty@upenn.edu\n",
    "Wensheng Guo, Ph.D,Professor of Biostatistics,wguo@mail.med.upenn.edu\n",
    "Yenchih Hsu, Ph.D.,Assistant Professor of Biostatistics,hsu9@mail.med.upenn.edu\n",
    "Rebecca A Hubbard, PhD,Associate Professor of Biostatistics,rhubb@mail.med.upenn.edu\n",
    "Wei-Ting Hwang, Ph.D.,Associate Professor of Biostatistics,whwang@mail.med.upenn.edu\n",
    "Marshall M. Joffe, MD MPH Ph.D,Professor of Biostatistics,mjoffe@mail.med.upenn.edu\n",
    "J. Richard Landis, B.S.Ed. M.S. Ph.D.,Professor of Biostatistics,jrlandis@mail.med.upenn.edu\n",
    "Yimei Li, Ph.D.,Assistant Professor of Biostatistics,liy3@email.chop.edu\n",
    "Mingyao Li, Ph.D.,Associate Professor of Biostatistics,mingyao@mail.med.upenn.edu\n",
    "Hongzhe Li, Ph.D,Professor of Biostatistics,hongzhe@upenn.edu\n",
    "A. Russell Localio, JD MA MPH MS PhD,Associate Professor of Biostatistics,rlocalio@upenn.edu\n",
    "Nandita Mitra, Ph.D.,Associate Professor of Biostatistics,nanditam@mail.med.upenn.edu\n",
    "Knashawn H. Morales, Sc.D.,Associate Professor of Biostatistics,knashawn@mail.med.upenn.edu\n",
    "Kathleen Joy Propert, Sc.D.,Professor of Biostatistics,propert@mail.med.upenn.edu\n",
    "Mary E. Putt, PhD ScD,Professor of Biostatistics,mputt@mail.med.upenn.edu\n",
    "Sarah Jane Ratcliffe, Ph.D.,Associate Professor of Biostatistics,sratclif@upenn.edu\n",
    "Michelle Elana Ross, PhD,Assistant Professor is Biostatistics,michross@upenn.edu\n",
    "Jason A. Roy, Ph.D.,Associate Professor of Biostatistics,jaroy@mail.med.upenn.edu\n",
    "Mary D. Sammel, Sc.D.,Professor of Biostatistics,msammel@cceb.med.upenn.edu\n",
    "Pamela Ann Shaw, PhD,Assistant Professor of Biostatistics,shawp@upenn.edu\n",
    "Russell Takeshi Shinohara,0,Assistant Professor of Biostatistics,rshi@mail.med.upenn.edu\n",
    "Haochang Shou, Ph.D.,Assistant Professor of Biostatistics,hshou@mail.med.upenn.edu\n",
    "Justine Shults, Ph.D.,Professor of Biostatistics,jshults@mail.med.upenn.edu\n",
    "Alisa Jane Stephens, Ph.D.,Assistant Professor of Biostatistics,alisaste@mail.med.upenn.edu\n",
    "Andrea Beth Troxel, ScD,Professor of Biostatistics,atroxel@mail.med.upenn.edu\n",
    "Rui Xiao, PhD,Assistant Professor of Biostatistics,rxiao@mail.med.upenn.edu\n",
    "Sharon Xiangwen Xie, Ph.D.,Associate Professor of Biostatistics,sxie@mail.med.upenn.edu\n",
    "Dawei Xie, PhD,Assistant Professor of Biostatistics,dxie@upenn.edu\n",
    "Wei (Peter) Yang, Ph.D.,Assistant Professor of Biostatistics,weiyang@mail.med.upenn.edu\"\"\"\n",
    "\n",
    "with open('faculty.csv', 'w') as f:\n",
    "    f.write(facultycsv)\n",
    "    \n",
    "print intentional error to prevent running cell by accident #this is pre-coded in HackerRank"
   ]
  },
  {
   "cell_type": "markdown",
   "metadata": {},
   "source": [
    "## Q1 Degree Count"
   ]
  },
  {
   "cell_type": "code",
   "execution_count": null,
   "metadata": {},
   "outputs": [],
   "source": [
    "import re\n",
    "import csv\n",
    "import pprint as pp\n",
    "from collections import defaultdict"
   ]
  },
  {
   "cell_type": "code",
   "execution_count": null,
   "metadata": {},
   "outputs": [],
   "source": [
    "# Get list of degrees from csv file\n",
    "with open('faculty.csv') as f:\n",
    "    facdata = csv.reader(f, delimiter=',')\n",
    "    \n",
    "    degrees = []\n",
    "\n",
    "    for row in facdata:\n",
    "        degree_str = row[1]\n",
    "        degrees.append(degree_str)\n",
    "\n",
    "    print(degrees)\n",
    "    print(len(degrees))"
   ]
  },
  {
   "cell_type": "code",
   "execution_count": null,
   "metadata": {},
   "outputs": [],
   "source": [
    "# Use RE and other skills to clean degree list\n",
    "\n",
    "degrees.pop(0) #only once to pop off column header\n",
    "\n",
    "print(degrees)\n",
    "print(len(degrees))"
   ]
  },
  {
   "cell_type": "code",
   "execution_count": null,
   "metadata": {},
   "outputs": [],
   "source": [
    "degrees = [degree.upper() for degree in degrees]"
   ]
  },
  {
   "cell_type": "code",
   "execution_count": null,
   "metadata": {},
   "outputs": [],
   "source": [
    "print(degrees)"
   ]
  },
  {
   "cell_type": "code",
   "execution_count": null,
   "metadata": {},
   "outputs": [],
   "source": [
    "def flatten(degrees):\n",
    "    for x in degrees:\n",
    "        if hasattr(x, '__iter__') and not isinstance(x, str):\n",
    "            for y in flatten(x):\n",
    "                yield y\n",
    "        else:\n",
    "            yield x"
   ]
  },
  {
   "cell_type": "code",
   "execution_count": null,
   "metadata": {},
   "outputs": [],
   "source": [
    "degrees = list(flatten(degrees))\n",
    "print(degrees)"
   ]
  },
  {
   "cell_type": "code",
   "execution_count": null,
   "metadata": {},
   "outputs": [],
   "source": [
    "degrees_clean = []"
   ]
  },
  {
   "cell_type": "code",
   "execution_count": null,
   "metadata": {},
   "outputs": [],
   "source": [
    "degrees_clean = [re.compile('\\.').sub('', degree) for degree in degrees]                # replace '.' with nothing\n",
    "    \n",
    "print(degrees_clean)"
   ]
  },
  {
   "cell_type": "code",
   "execution_count": null,
   "metadata": {},
   "outputs": [],
   "source": [
    "# OUTDATED\n",
    "for degree in degrees:\n",
    "    abbrev = re.sub('\\.', '', degree)\n",
    "    degrees_clean.append(abbrev)\n",
    "    \n",
    "print(degrees_cleanxxx) # intentional error"
   ]
  },
  {
   "cell_type": "code",
   "execution_count": null,
   "metadata": {},
   "outputs": [],
   "source": [
    "degrees_all = []\n",
    "for degree in degrees_clean:\n",
    "    deg_sep = degree.split()\n",
    "    degrees_all.append(str(deg_sep))\n",
    "    \n",
    "print(degrees_all)"
   ]
  },
  {
   "cell_type": "code",
   "execution_count": null,
   "metadata": {},
   "outputs": [],
   "source": [
    "# Then create function and pass it my degrees list\n",
    "def count_degrees(csv_file_name):\n",
    "    degree_count = defaultdict(int)\n",
    "    for degree in degrees_all: \n",
    "        degree_count[degree] += 1\n",
    "    return degree_count"
   ]
  },
  {
   "cell_type": "code",
   "execution_count": null,
   "metadata": {},
   "outputs": [],
   "source": [
    "count_degrees('faculty.csv')"
   ]
  },
  {
   "cell_type": "markdown",
   "metadata": {},
   "source": [
    "## Q2 Title Count"
   ]
  },
  {
   "cell_type": "code",
   "execution_count": null,
   "metadata": {},
   "outputs": [],
   "source": [
    "import re\n",
    "import csv\n",
    "import pprint as pp\n",
    "from collections import defaultdict"
   ]
  },
  {
   "cell_type": "code",
   "execution_count": null,
   "metadata": {},
   "outputs": [],
   "source": [
    "# Get list of titles from csv file\n",
    "with open('faculty.csv') as f:\n",
    "    facdata = csv.reader(f, delimiter=',')\n",
    "    \n",
    "    titles = []\n",
    "\n",
    "    for row in facdata:\n",
    "        title_str = row[2]\n",
    "        titles.append(title_str)\n",
    "\n",
    "    print(titles)\n",
    "    print(len(titles))"
   ]
  },
  {
   "cell_type": "code",
   "execution_count": null,
   "metadata": {},
   "outputs": [],
   "source": [
    "titles.pop(0) #only once to pop off column header\n",
    "\n",
    "print(titles)\n",
    "print(len(titles))"
   ]
  },
  {
   "cell_type": "code",
   "execution_count": null,
   "metadata": {},
   "outputs": [],
   "source": [
    "typo_index = titles.index('Assistant Professor is Biostatistics')"
   ]
  },
  {
   "cell_type": "code",
   "execution_count": null,
   "metadata": {},
   "outputs": [],
   "source": [
    "titles.insert(typo_index, 'Assistant Professor of Biostatistics')\n",
    "titles.remove('Assistant Professor is Biostatistics')"
   ]
  },
  {
   "cell_type": "code",
   "execution_count": null,
   "metadata": {},
   "outputs": [],
   "source": [
    "print(titles)\n",
    "print(len(titles))"
   ]
  },
  {
   "cell_type": "markdown",
   "metadata": {},
   "source": [
    "## Q3 List of Emails"
   ]
  },
  {
   "cell_type": "code",
   "execution_count": null,
   "metadata": {},
   "outputs": [],
   "source": []
  },
  {
   "cell_type": "markdown",
   "metadata": {},
   "source": [
    "## Q4 Email Domains"
   ]
  },
  {
   "cell_type": "code",
   "execution_count": null,
   "metadata": {},
   "outputs": [],
   "source": [
    "import re"
   ]
  },
  {
   "cell_type": "code",
   "execution_count": null,
   "metadata": {},
   "outputs": [],
   "source": [
    "emails = [\n",
    "    'kelly.jones2008@gmail.com', 'kjones2@alumni.upenn.edu', \n",
    "    'ms.jones617@gmail.com', 'slightlyirreverend206@gmail.com'\n",
    "    ]\n",
    "print(emails)"
   ]
  },
  {
   "cell_type": "code",
   "execution_count": null,
   "metadata": {},
   "outputs": [],
   "source": [
    "split_term = '@'"
   ]
  },
  {
   "cell_type": "code",
   "execution_count": null,
   "metadata": {},
   "outputs": [],
   "source": [
    "domains = []\n",
    "for email in emails:\n",
    "    domain = re.split(split_term,email)\n",
    "    domains.append(domain[1])"
   ]
  },
  {
   "cell_type": "code",
   "execution_count": null,
   "metadata": {},
   "outputs": [],
   "source": [
    "print(domains)"
   ]
  },
  {
   "cell_type": "code",
   "execution_count": null,
   "metadata": {},
   "outputs": [],
   "source": [
    "unique_domains_set = set(domains)\n",
    "print(unique_domains_set)"
   ]
  },
  {
   "cell_type": "code",
   "execution_count": null,
   "metadata": {},
   "outputs": [],
   "source": [
    "def unique_domains(emails):\n",
    "    split_term = '@'\n",
    "    full_list = re.split(split_term, [email for email in emails])\n",
    "    print(full_list)"
   ]
  },
  {
   "cell_type": "code",
   "execution_count": null,
   "metadata": {},
   "outputs": [],
   "source": [
    "unique_domains(emails)"
   ]
  },
  {
   "cell_type": "code",
   "execution_count": null,
   "metadata": {},
   "outputs": [],
   "source": []
  },
  {
   "cell_type": "code",
   "execution_count": null,
   "metadata": {},
   "outputs": [],
   "source": []
  },
  {
   "cell_type": "markdown",
   "metadata": {},
   "source": [
    "## Q5 Write List of Emails to emails.csv"
   ]
  },
  {
   "cell_type": "code",
   "execution_count": null,
   "metadata": {},
   "outputs": [],
   "source": [
    "import csv\n",
    "\n",
    "file = 'emails.csv'\n",
    "\n",
    "def write_to_csv(list_of_emails):\n",
    "    with open(file, \"w\") as output:\n",
    "        writer = csv.writer(output, lineterminator='\\n')\n",
    "        writer.writerow('list_of_emails')\n",
    "        for email in list_of_emails:\n",
    "            writer.writerow([email])"
   ]
  },
  {
   "cell_type": "markdown",
   "metadata": {},
   "source": [
    "## Q6 Dictionary with Last Names as Keys"
   ]
  },
  {
   "cell_type": "code",
   "execution_count": 32,
   "metadata": {},
   "outputs": [],
   "source": [
    "import csv\n",
    "from collections import defaultdict\n",
    "import pprint as pp"
   ]
  },
  {
   "cell_type": "code",
   "execution_count": 23,
   "metadata": {},
   "outputs": [],
   "source": [
    "with open('faculty.csv') as f:\n",
    "    facdata = csv.reader(f, delimiter=',')\n",
    "    names = []\n",
    "    details = []\n",
    "    for row in facdata:\n",
    "        full_name = row[0]\n",
    "        names.append(full_name)\n",
    "        other_columns = row[1:]\n",
    "        details.append(other_columns)"
   ]
  },
  {
   "cell_type": "code",
   "execution_count": 24,
   "metadata": {},
   "outputs": [
    {
     "name": "stdout",
     "output_type": "stream",
     "text": [
      "['name', 'Scarlett L. Bellamy', 'Warren B. Bilker', 'Matthew W Bryan', 'Jinbo Chen', 'Susan S Ellenberg', 'Jonas H. Ellenberg', 'Rui Feng', 'Benjamin C. French', 'Phyllis A. Gimotty', 'Wensheng Guo', 'Yenchih Hsu', 'Rebecca A Hubbard', 'Wei-Ting Hwang', 'Marshall M. Joffe', 'J. Richard Landis', 'Yimei Li', 'Mingyao Li', 'Hongzhe Li', 'A. Russell Localio', 'Nandita Mitra', 'Knashawn H. Morales', 'Kathleen Joy Propert', 'Mary E. Putt', 'Sarah Jane Ratcliffe', 'Michelle Elana Ross', 'Jason A. Roy', 'Mary D. Sammel', 'Pamela Ann Shaw', 'Russell Takeshi Shinohara', 'Haochang Shou', 'Justine Shults', 'Alisa Jane Stephens', 'Andrea Beth Troxel', 'Rui Xiao', 'Sharon Xiangwen Xie', 'Dawei Xie', 'Wei (Peter) Yang']\n"
     ]
    }
   ],
   "source": [
    "print(names)"
   ]
  },
  {
   "cell_type": "code",
   "execution_count": 25,
   "metadata": {},
   "outputs": [
    {
     "name": "stdout",
     "output_type": "stream",
     "text": [
      "[[' degree', ' title', ' email'], [' Sc.D.', 'Associate Professor of Biostatistics', 'bellamys@mail.med.upenn.edu'], ['Ph.D.', 'Professor of Biostatistics', 'warren@upenn.edu'], [' PhD', 'Assistant Professor of Biostatistics', 'bryanma@upenn.edu'], [' Ph.D.', 'Associate Professor of Biostatistics', 'jinboche@upenn.edu'], [' Ph.D.', 'Professor of Biostatistics', 'sellenbe@upenn.edu'], [' Ph.D.', 'Professor of Biostatistics', 'jellenbe@mail.med.upenn.edu'], [' Ph.D', 'Assistant Professor of Biostatistics', 'ruifeng@upenn.edu'], [' PhD', 'Associate Professor of Biostatistics', 'bcfrench@mail.med.upenn.edu'], [' Ph.D', 'Professor of Biostatistics', 'pgimotty@upenn.edu'], [' Ph.D', 'Professor of Biostatistics', 'wguo@mail.med.upenn.edu'], [' Ph.D.', 'Assistant Professor of Biostatistics', 'hsu9@mail.med.upenn.edu'], [' PhD', 'Associate Professor of Biostatistics', 'rhubb@mail.med.upenn.edu'], [' Ph.D.', 'Associate Professor of Biostatistics', 'whwang@mail.med.upenn.edu'], [' MD MPH Ph.D', 'Professor of Biostatistics', 'mjoffe@mail.med.upenn.edu'], [' B.S.Ed. M.S. Ph.D.', 'Professor of Biostatistics', 'jrlandis@mail.med.upenn.edu'], [' Ph.D.', 'Assistant Professor of Biostatistics', 'liy3@email.chop.edu'], [' Ph.D.', 'Associate Professor of Biostatistics', 'mingyao@mail.med.upenn.edu'], [' Ph.D', 'Professor of Biostatistics', 'hongzhe@upenn.edu'], [' JD MA MPH MS PhD', 'Associate Professor of Biostatistics', 'rlocalio@upenn.edu'], [' Ph.D.', 'Associate Professor of Biostatistics', 'nanditam@mail.med.upenn.edu'], [' Sc.D.', 'Associate Professor of Biostatistics', 'knashawn@mail.med.upenn.edu'], [' Sc.D.', 'Professor of Biostatistics', 'propert@mail.med.upenn.edu'], [' PhD ScD', 'Professor of Biostatistics', 'mputt@mail.med.upenn.edu'], [' Ph.D.', 'Associate Professor of Biostatistics', 'sratclif@upenn.edu'], [' PhD', 'Assistant Professor is Biostatistics', 'michross@upenn.edu'], [' Ph.D.', 'Associate Professor of Biostatistics', 'jaroy@mail.med.upenn.edu'], [' Sc.D.', 'Professor of Biostatistics', 'msammel@cceb.med.upenn.edu'], [' PhD', 'Assistant Professor of Biostatistics', 'shawp@upenn.edu'], ['0', 'Assistant Professor of Biostatistics', 'rshi@mail.med.upenn.edu'], [' Ph.D.', 'Assistant Professor of Biostatistics', 'hshou@mail.med.upenn.edu'], [' Ph.D.', 'Professor of Biostatistics', 'jshults@mail.med.upenn.edu'], [' Ph.D.', 'Assistant Professor of Biostatistics', 'alisaste@mail.med.upenn.edu'], [' ScD', 'Professor of Biostatistics', 'atroxel@mail.med.upenn.edu'], [' PhD', 'Assistant Professor of Biostatistics', 'rxiao@mail.med.upenn.edu'], [' Ph.D.', 'Associate Professor of Biostatistics', 'sxie@mail.med.upenn.edu'], [' PhD', 'Assistant Professor of Biostatistics', 'dxie@upenn.edu'], [' Ph.D.', 'Assistant Professor of Biostatistics', 'weiyang@mail.med.upenn.edu']]\n"
     ]
    }
   ],
   "source": [
    "print(details)"
   ]
  },
  {
   "cell_type": "code",
   "execution_count": 26,
   "metadata": {},
   "outputs": [
    {
     "data": {
      "text/plain": [
       "[' degree', ' title', ' email']"
      ]
     },
     "execution_count": 26,
     "metadata": {},
     "output_type": "execute_result"
    }
   ],
   "source": [
    "names.pop(0)\n",
    "details.pop(0)"
   ]
  },
  {
   "cell_type": "code",
   "execution_count": 28,
   "metadata": {},
   "outputs": [],
   "source": [
    "surnames = [name.split()[-1] for name in names]"
   ]
  },
  {
   "cell_type": "code",
   "execution_count": 29,
   "metadata": {},
   "outputs": [
    {
     "name": "stdout",
     "output_type": "stream",
     "text": [
      "['Bellamy', 'Bilker', 'Bryan', 'Chen', 'Ellenberg', 'Ellenberg', 'Feng', 'French', 'Gimotty', 'Guo', 'Hsu', 'Hubbard', 'Hwang', 'Joffe', 'Landis', 'Li', 'Li', 'Li', 'Localio', 'Mitra', 'Morales', 'Propert', 'Putt', 'Ratcliffe', 'Ross', 'Roy', 'Sammel', 'Shaw', 'Shinohara', 'Shou', 'Shults', 'Stephens', 'Troxel', 'Xiao', 'Xie', 'Xie', 'Yang']\n"
     ]
    }
   ],
   "source": [
    "print(surnames)"
   ]
  },
  {
   "cell_type": "code",
   "execution_count": 35,
   "metadata": {},
   "outputs": [],
   "source": [
    "surnames = tuple(surnames)"
   ]
  },
  {
   "cell_type": "code",
   "execution_count": 37,
   "metadata": {},
   "outputs": [],
   "source": [
    "details = tuple(details)"
   ]
  },
  {
   "cell_type": "code",
   "execution_count": 34,
   "metadata": {},
   "outputs": [
    {
     "name": "stdout",
     "output_type": "stream",
     "text": [
      "{'Bellamy': [' Sc.D.',\n",
      "             'Associate Professor of Biostatistics',\n",
      "             'bellamys@mail.med.upenn.edu'],\n",
      " 'Bilker': ['Ph.D.', 'Professor of Biostatistics', 'warren@upenn.edu'],\n",
      " 'Bryan': [' PhD', 'Assistant Professor of Biostatistics', 'bryanma@upenn.edu'],\n",
      " 'Chen': [' Ph.D.',\n",
      "          'Associate Professor of Biostatistics',\n",
      "          'jinboche@upenn.edu'],\n",
      " 'Ellenberg': [' Ph.D.',\n",
      "               'Professor of Biostatistics',\n",
      "               'jellenbe@mail.med.upenn.edu'],\n",
      " 'Feng': [' Ph.D', 'Assistant Professor of Biostatistics', 'ruifeng@upenn.edu'],\n",
      " 'French': [' PhD',\n",
      "            'Associate Professor of Biostatistics',\n",
      "            'bcfrench@mail.med.upenn.edu'],\n",
      " 'Gimotty': [' Ph.D', 'Professor of Biostatistics', 'pgimotty@upenn.edu'],\n",
      " 'Guo': [' Ph.D', 'Professor of Biostatistics', 'wguo@mail.med.upenn.edu'],\n",
      " 'Hsu': [' Ph.D.',\n",
      "         'Assistant Professor of Biostatistics',\n",
      "         'hsu9@mail.med.upenn.edu'],\n",
      " 'Hubbard': [' PhD',\n",
      "             'Associate Professor of Biostatistics',\n",
      "             'rhubb@mail.med.upenn.edu'],\n",
      " 'Hwang': [' Ph.D.',\n",
      "           'Associate Professor of Biostatistics',\n",
      "           'whwang@mail.med.upenn.edu'],\n",
      " 'Joffe': [' MD MPH Ph.D',\n",
      "           'Professor of Biostatistics',\n",
      "           'mjoffe@mail.med.upenn.edu'],\n",
      " 'Landis': [' B.S.Ed. M.S. Ph.D.',\n",
      "            'Professor of Biostatistics',\n",
      "            'jrlandis@mail.med.upenn.edu'],\n",
      " 'Li': [' Ph.D', 'Professor of Biostatistics', 'hongzhe@upenn.edu'],\n",
      " 'Localio': [' JD MA MPH MS PhD',\n",
      "             'Associate Professor of Biostatistics',\n",
      "             'rlocalio@upenn.edu'],\n",
      " 'Mitra': [' Ph.D.',\n",
      "           'Associate Professor of Biostatistics',\n",
      "           'nanditam@mail.med.upenn.edu'],\n",
      " 'Morales': [' Sc.D.',\n",
      "             'Associate Professor of Biostatistics',\n",
      "             'knashawn@mail.med.upenn.edu'],\n",
      " 'Propert': [' Sc.D.',\n",
      "             'Professor of Biostatistics',\n",
      "             'propert@mail.med.upenn.edu'],\n",
      " 'Putt': [' PhD ScD', 'Professor of Biostatistics', 'mputt@mail.med.upenn.edu'],\n",
      " 'Ratcliffe': [' Ph.D.',\n",
      "               'Associate Professor of Biostatistics',\n",
      "               'sratclif@upenn.edu'],\n",
      " 'Ross': [' PhD', 'Assistant Professor is Biostatistics', 'michross@upenn.edu'],\n",
      " 'Roy': [' Ph.D.',\n",
      "         'Associate Professor of Biostatistics',\n",
      "         'jaroy@mail.med.upenn.edu'],\n",
      " 'Sammel': [' Sc.D.',\n",
      "            'Professor of Biostatistics',\n",
      "            'msammel@cceb.med.upenn.edu'],\n",
      " 'Shaw': [' PhD', 'Assistant Professor of Biostatistics', 'shawp@upenn.edu'],\n",
      " 'Shinohara': ['0',\n",
      "               'Assistant Professor of Biostatistics',\n",
      "               'rshi@mail.med.upenn.edu'],\n",
      " 'Shou': [' Ph.D.',\n",
      "          'Assistant Professor of Biostatistics',\n",
      "          'hshou@mail.med.upenn.edu'],\n",
      " 'Shults': [' Ph.D.',\n",
      "            'Professor of Biostatistics',\n",
      "            'jshults@mail.med.upenn.edu'],\n",
      " 'Stephens': [' Ph.D.',\n",
      "              'Assistant Professor of Biostatistics',\n",
      "              'alisaste@mail.med.upenn.edu'],\n",
      " 'Troxel': [' ScD', 'Professor of Biostatistics', 'atroxel@mail.med.upenn.edu'],\n",
      " 'Xiao': [' PhD',\n",
      "          'Assistant Professor of Biostatistics',\n",
      "          'rxiao@mail.med.upenn.edu'],\n",
      " 'Xie': [' PhD', 'Assistant Professor of Biostatistics', 'dxie@upenn.edu'],\n",
      " 'Yang': [' Ph.D.',\n",
      "          'Assistant Professor of Biostatistics',\n",
      "          'weiyang@mail.med.upenn.edu']}\n"
     ]
    }
   ],
   "source": [
    "pp.pprint(new_dict)"
   ]
  },
  {
   "cell_type": "markdown",
   "metadata": {},
   "source": [
    "### *New Attempt*"
   ]
  },
  {
   "cell_type": "code",
   "execution_count": 2,
   "metadata": {},
   "outputs": [],
   "source": [
    "import csv\n",
    "import pprint as pp\n",
    "from collections import defaultdict\n",
    "\n",
    "\n",
    "with open('faculty.csv') as f:\n",
    "    facdata = csv.reader(f, delimiter=',')\n",
    "    names = []\n",
    "    details = []\n",
    "    for row in facdata:\n",
    "        full_name = row[0]\n",
    "        names.append(full_name)\n",
    "        other_columns = row[1:]\n",
    "        details.append(other_columns)\n",
    "        \n",
    "names.pop(0)\n",
    "details.pop(0)\n",
    "\n",
    "surnames = [name.split()[-1] for name in names]\n",
    "\n",
    "\n"
   ]
  },
  {
   "cell_type": "code",
   "execution_count": 4,
   "metadata": {},
   "outputs": [
    {
     "name": "stdout",
     "output_type": "stream",
     "text": [
      "(('Bellamy', [' Sc.D.', 'Associate Professor of Biostatistics', 'bellamys@mail.med.upenn.edu']), ('Bilker', ['Ph.D.', 'Professor of Biostatistics', 'warren@upenn.edu']), ('Bryan', [' PhD', 'Assistant Professor of Biostatistics', 'bryanma@upenn.edu']), ('Chen', [' Ph.D.', 'Associate Professor of Biostatistics', 'jinboche@upenn.edu']), ('Ellenberg', [' Ph.D.', 'Professor of Biostatistics', 'sellenbe@upenn.edu']), ('Ellenberg', [' Ph.D.', 'Professor of Biostatistics', 'jellenbe@mail.med.upenn.edu']), ('Feng', [' Ph.D', 'Assistant Professor of Biostatistics', 'ruifeng@upenn.edu']), ('French', [' PhD', 'Associate Professor of Biostatistics', 'bcfrench@mail.med.upenn.edu']), ('Gimotty', [' Ph.D', 'Professor of Biostatistics', 'pgimotty@upenn.edu']), ('Guo', [' Ph.D', 'Professor of Biostatistics', 'wguo@mail.med.upenn.edu']), ('Hsu', [' Ph.D.', 'Assistant Professor of Biostatistics', 'hsu9@mail.med.upenn.edu']), ('Hubbard', [' PhD', 'Associate Professor of Biostatistics', 'rhubb@mail.med.upenn.edu']), ('Hwang', [' Ph.D.', 'Associate Professor of Biostatistics', 'whwang@mail.med.upenn.edu']), ('Joffe', [' MD MPH Ph.D', 'Professor of Biostatistics', 'mjoffe@mail.med.upenn.edu']), ('Landis', [' B.S.Ed. M.S. Ph.D.', 'Professor of Biostatistics', 'jrlandis@mail.med.upenn.edu']), ('Li', [' Ph.D.', 'Assistant Professor of Biostatistics', 'liy3@email.chop.edu']), ('Li', [' Ph.D.', 'Associate Professor of Biostatistics', 'mingyao@mail.med.upenn.edu']), ('Li', [' Ph.D', 'Professor of Biostatistics', 'hongzhe@upenn.edu']), ('Localio', [' JD MA MPH MS PhD', 'Associate Professor of Biostatistics', 'rlocalio@upenn.edu']), ('Mitra', [' Ph.D.', 'Associate Professor of Biostatistics', 'nanditam@mail.med.upenn.edu']), ('Morales', [' Sc.D.', 'Associate Professor of Biostatistics', 'knashawn@mail.med.upenn.edu']), ('Propert', [' Sc.D.', 'Professor of Biostatistics', 'propert@mail.med.upenn.edu']), ('Putt', [' PhD ScD', 'Professor of Biostatistics', 'mputt@mail.med.upenn.edu']), ('Ratcliffe', [' Ph.D.', 'Associate Professor of Biostatistics', 'sratclif@upenn.edu']), ('Ross', [' PhD', 'Assistant Professor is Biostatistics', 'michross@upenn.edu']), ('Roy', [' Ph.D.', 'Associate Professor of Biostatistics', 'jaroy@mail.med.upenn.edu']), ('Sammel', [' Sc.D.', 'Professor of Biostatistics', 'msammel@cceb.med.upenn.edu']), ('Shaw', [' PhD', 'Assistant Professor of Biostatistics', 'shawp@upenn.edu']), ('Shinohara', ['0', 'Assistant Professor of Biostatistics', 'rshi@mail.med.upenn.edu']), ('Shou', [' Ph.D.', 'Assistant Professor of Biostatistics', 'hshou@mail.med.upenn.edu']), ('Shults', [' Ph.D.', 'Professor of Biostatistics', 'jshults@mail.med.upenn.edu']), ('Stephens', [' Ph.D.', 'Assistant Professor of Biostatistics', 'alisaste@mail.med.upenn.edu']), ('Troxel', [' ScD', 'Professor of Biostatistics', 'atroxel@mail.med.upenn.edu']), ('Xiao', [' PhD', 'Assistant Professor of Biostatistics', 'rxiao@mail.med.upenn.edu']), ('Xie', [' Ph.D.', 'Associate Professor of Biostatistics', 'sxie@mail.med.upenn.edu']), ('Xie', [' PhD', 'Assistant Professor of Biostatistics', 'dxie@upenn.edu']), ('Yang', [' Ph.D.', 'Assistant Professor of Biostatistics', 'weiyang@mail.med.upenn.edu']))\n"
     ]
    }
   ],
   "source": [
    "print(tuple(data))"
   ]
  },
  {
   "cell_type": "code",
   "execution_count": 7,
   "metadata": {},
   "outputs": [],
   "source": [
    "def get_dict():\n",
    "    data = zip(surnames, details)\n",
    "    d = defaultdict(list)\n",
    "    for k, v in data:\n",
    "        d[k].append(v)\n",
    "    return d"
   ]
  },
  {
   "cell_type": "code",
   "execution_count": 8,
   "metadata": {},
   "outputs": [
    {
     "data": {
      "text/plain": [
       "defaultdict(list,\n",
       "            {'Bellamy': [[' Sc.D.',\n",
       "               'Associate Professor of Biostatistics',\n",
       "               'bellamys@mail.med.upenn.edu']],\n",
       "             'Bilker': [['Ph.D.',\n",
       "               'Professor of Biostatistics',\n",
       "               'warren@upenn.edu']],\n",
       "             'Bryan': [[' PhD',\n",
       "               'Assistant Professor of Biostatistics',\n",
       "               'bryanma@upenn.edu']],\n",
       "             'Chen': [[' Ph.D.',\n",
       "               'Associate Professor of Biostatistics',\n",
       "               'jinboche@upenn.edu']],\n",
       "             'Ellenberg': [[' Ph.D.',\n",
       "               'Professor of Biostatistics',\n",
       "               'sellenbe@upenn.edu'],\n",
       "              [' Ph.D.',\n",
       "               'Professor of Biostatistics',\n",
       "               'jellenbe@mail.med.upenn.edu']],\n",
       "             'Feng': [[' Ph.D',\n",
       "               'Assistant Professor of Biostatistics',\n",
       "               'ruifeng@upenn.edu']],\n",
       "             'French': [[' PhD',\n",
       "               'Associate Professor of Biostatistics',\n",
       "               'bcfrench@mail.med.upenn.edu']],\n",
       "             'Gimotty': [[' Ph.D',\n",
       "               'Professor of Biostatistics',\n",
       "               'pgimotty@upenn.edu']],\n",
       "             'Guo': [[' Ph.D',\n",
       "               'Professor of Biostatistics',\n",
       "               'wguo@mail.med.upenn.edu']],\n",
       "             'Hsu': [[' Ph.D.',\n",
       "               'Assistant Professor of Biostatistics',\n",
       "               'hsu9@mail.med.upenn.edu']],\n",
       "             'Hubbard': [[' PhD',\n",
       "               'Associate Professor of Biostatistics',\n",
       "               'rhubb@mail.med.upenn.edu']],\n",
       "             'Hwang': [[' Ph.D.',\n",
       "               'Associate Professor of Biostatistics',\n",
       "               'whwang@mail.med.upenn.edu']],\n",
       "             'Joffe': [[' MD MPH Ph.D',\n",
       "               'Professor of Biostatistics',\n",
       "               'mjoffe@mail.med.upenn.edu']],\n",
       "             'Landis': [[' B.S.Ed. M.S. Ph.D.',\n",
       "               'Professor of Biostatistics',\n",
       "               'jrlandis@mail.med.upenn.edu']],\n",
       "             'Li': [[' Ph.D.',\n",
       "               'Assistant Professor of Biostatistics',\n",
       "               'liy3@email.chop.edu'],\n",
       "              [' Ph.D.',\n",
       "               'Associate Professor of Biostatistics',\n",
       "               'mingyao@mail.med.upenn.edu'],\n",
       "              [' Ph.D', 'Professor of Biostatistics', 'hongzhe@upenn.edu']],\n",
       "             'Localio': [[' JD MA MPH MS PhD',\n",
       "               'Associate Professor of Biostatistics',\n",
       "               'rlocalio@upenn.edu']],\n",
       "             'Mitra': [[' Ph.D.',\n",
       "               'Associate Professor of Biostatistics',\n",
       "               'nanditam@mail.med.upenn.edu']],\n",
       "             'Morales': [[' Sc.D.',\n",
       "               'Associate Professor of Biostatistics',\n",
       "               'knashawn@mail.med.upenn.edu']],\n",
       "             'Propert': [[' Sc.D.',\n",
       "               'Professor of Biostatistics',\n",
       "               'propert@mail.med.upenn.edu']],\n",
       "             'Putt': [[' PhD ScD',\n",
       "               'Professor of Biostatistics',\n",
       "               'mputt@mail.med.upenn.edu']],\n",
       "             'Ratcliffe': [[' Ph.D.',\n",
       "               'Associate Professor of Biostatistics',\n",
       "               'sratclif@upenn.edu']],\n",
       "             'Ross': [[' PhD',\n",
       "               'Assistant Professor is Biostatistics',\n",
       "               'michross@upenn.edu']],\n",
       "             'Roy': [[' Ph.D.',\n",
       "               'Associate Professor of Biostatistics',\n",
       "               'jaroy@mail.med.upenn.edu']],\n",
       "             'Sammel': [[' Sc.D.',\n",
       "               'Professor of Biostatistics',\n",
       "               'msammel@cceb.med.upenn.edu']],\n",
       "             'Shaw': [[' PhD',\n",
       "               'Assistant Professor of Biostatistics',\n",
       "               'shawp@upenn.edu']],\n",
       "             'Shinohara': [['0',\n",
       "               'Assistant Professor of Biostatistics',\n",
       "               'rshi@mail.med.upenn.edu']],\n",
       "             'Shou': [[' Ph.D.',\n",
       "               'Assistant Professor of Biostatistics',\n",
       "               'hshou@mail.med.upenn.edu']],\n",
       "             'Shults': [[' Ph.D.',\n",
       "               'Professor of Biostatistics',\n",
       "               'jshults@mail.med.upenn.edu']],\n",
       "             'Stephens': [[' Ph.D.',\n",
       "               'Assistant Professor of Biostatistics',\n",
       "               'alisaste@mail.med.upenn.edu']],\n",
       "             'Troxel': [[' ScD',\n",
       "               'Professor of Biostatistics',\n",
       "               'atroxel@mail.med.upenn.edu']],\n",
       "             'Xiao': [[' PhD',\n",
       "               'Assistant Professor of Biostatistics',\n",
       "               'rxiao@mail.med.upenn.edu']],\n",
       "             'Xie': [[' Ph.D.',\n",
       "               'Associate Professor of Biostatistics',\n",
       "               'sxie@mail.med.upenn.edu'],\n",
       "              [' PhD',\n",
       "               'Assistant Professor of Biostatistics',\n",
       "               'dxie@upenn.edu']],\n",
       "             'Yang': [[' Ph.D.',\n",
       "               'Assistant Professor of Biostatistics',\n",
       "               'weiyang@mail.med.upenn.edu']]})"
      ]
     },
     "execution_count": 8,
     "metadata": {},
     "output_type": "execute_result"
    }
   ],
   "source": [
    "get_dict()"
   ]
  },
  {
   "cell_type": "code",
   "execution_count": null,
   "metadata": {},
   "outputs": [],
   "source": []
  },
  {
   "cell_type": "markdown",
   "metadata": {},
   "source": [
    "## Q7 Dictionary with Tuples of Names as Keys"
   ]
  },
  {
   "cell_type": "code",
   "execution_count": null,
   "metadata": {},
   "outputs": [],
   "source": []
  },
  {
   "cell_type": "code",
   "execution_count": null,
   "metadata": {},
   "outputs": [],
   "source": []
  },
  {
   "cell_type": "code",
   "execution_count": null,
   "metadata": {},
   "outputs": [],
   "source": []
  }
 ],
 "metadata": {
  "kernelspec": {
   "display_name": "Python 3",
   "language": "python",
   "name": "python3"
  },
  "language_info": {
   "codemirror_mode": {
    "name": "ipython",
    "version": 3
   },
   "file_extension": ".py",
   "mimetype": "text/x-python",
   "name": "python",
   "nbconvert_exporter": "python",
   "pygments_lexer": "ipython3",
   "version": "3.6.4"
  }
 },
 "nbformat": 4,
 "nbformat_minor": 2
}
